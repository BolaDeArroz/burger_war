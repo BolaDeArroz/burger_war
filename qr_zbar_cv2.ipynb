{
 "cells": [
  {
   "cell_type": "code",
   "execution_count": 34,
   "metadata": {},
   "outputs": [
    {
     "name": "stdout",
     "output_type": "stream",
     "text": [
      "decoded QRCODE symbol \"ONIGIRI-WAR\"\n",
      "[(21, 21), (21, 478), (477, 476), (477, 21)]\n"
     ]
    }
   ],
   "source": [
    "import zbar\n",
    "import numpy as np\n",
    "import cv2\n",
    "from matplotlib import pyplot as plt\n",
    "\n",
    "# create a reader\n",
    "scanner = zbar.ImageScanner()\n",
    "\n",
    "# configure the reader\n",
    "scanner.parse_config('enable')\n",
    "\n",
    "# obtain image data\n",
    "im = cv2.imread('./qrcode.png')  \n",
    "gray_im = cv2.cvtColor(im, cv2.COLOR_BGR2GRAY)  \n",
    "width,height = gray_im.shape[:2] \n",
    "\n",
    "# wrap image data\n",
    "image = zbar.Image(width, height, 'Y800', gray_im.tostring())\n",
    "\n",
    "# scan the image for barcodes\n",
    "scanner.scan(image)\n",
    "\n",
    "# extract results\n",
    "for symbol in image:\n",
    "    # do something useful with results\n",
    "    print 'decoded', symbol.type, 'symbol', '\"%s\"' % symbol.data\n",
    "    corners = [item for item in symbol.location]\n",
    "    print(corners)\n",
    "    pts = np.array(corners, np.int32)\n",
    "    pts = pts.reshape((-1,1,2))\n",
    "    im = cv2.polylines(im,[pts],True,(255,0,0) , 10) "
   ]
  },
  {
   "cell_type": "code",
   "execution_count": 35,
   "metadata": {},
   "outputs": [
    {
     "data": {
      "image/png": "[encoded data removed]",
      "text/plain": [
       "<matplotlib.figure.Figure at 0x7ff7e43369d0>"
      ]
     },
     "metadata": {},
     "output_type": "display_data"
    }
   ],
   "source": [
    "plt.imshow(im)\n",
    "plt.show()"
   ]
  },
  {
   "cell_type": "code",
   "execution_count": null,
   "metadata": {
    "collapsed": true
   },
   "outputs": [],
   "source": []
  }
 ],
 "metadata": {
  "kernelspec": {
   "display_name": "Python 2",
   "language": "python",
   "name": "python2"
  },
  "language_info": {
   "codemirror_mode": {
    "name": "ipython",
    "version": 2
   },
   "file_extension": ".py",
   "mimetype": "text/x-python",
   "name": "python",
   "nbconvert_exporter": "python",
   "pygments_lexer": "ipython2",
   "version": "2.7.13"
  }
 },
 "nbformat": 4,
 "nbformat_minor": 2
}
