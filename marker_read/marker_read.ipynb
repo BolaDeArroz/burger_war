{
 "cells": [
  {
   "cell_type": "code",
   "execution_count": 1,
   "metadata": {
    "collapsed": true
   },
   "outputs": [],
   "source": [
    "# read ar marker sample\n",
    "import cv2\n",
    "from matplotlib import pyplot as plt"
   ]
  },
  {
   "cell_type": "code",
   "execution_count": 3,
   "metadata": {},
   "outputs": [],
   "source": [
    "img = cv2.imread(\"marker_sample.jpg\")"
   ]
  },
  {
   "cell_type": "code",
   "execution_count": 5,
   "metadata": {},
   "outputs": [
    {
     "data": {
      "image/png": "[encoded data removed]",
      "text/plain": [
       "<matplotlib.figure.Figure at 0x7f159404b550>"
      ]
     },
     "metadata": {},
     "output_type": "display_data"
    }
   ],
   "source": [
    "plt.imshow(img)\n",
    "plt.show()"
   ]
  },
  {
   "cell_type": "code",
   "execution_count": null,
   "metadata": {
    "collapsed": true
   },
   "outputs": [],
   "source": []
  },
  {
   "cell_type": "code",
   "execution_count": 21,
   "metadata": {},
   "outputs": [],
   "source": [
    "# 画像ファイルの読み込み\n",
    "#inPath = 'hoge.jpg'\n",
    "#outPath = 'hogehoge.jpg'\n",
    "#img = cv2.imread(inPath)\n",
    "img = cv2.imread(\"marker_sample.jpg\")\n",
    "# グレースケールに変換\n",
    "img_gray = cv2.cvtColor(img, cv2.COLOR_BGR2GRAY)\n",
    "# ガウシアンフィルタ\n",
    "img_blur = cv2.GaussianBlur(img_gray, (5, 5), 0)\n",
    "# 二値変換\n",
    "ret, th = cv2.threshold(img_gray,127,255,cv2.THRESH_BINARY)\n",
    "# エッジ抽出\n",
    "img_canny = cv2.Canny(th, 50, 110)\n",
    "# 輪郭抽出\n",
    "ret, contours, hierarchy = cv2.findContours(img_canny,cv2.RETR_TREE,cv2.CHAIN_APPROX_SIMPLE)\n",
    "\n",
    "i = 0\n",
    "while i < len(contours):\n",
    "    approx = cv2.approxPolyDP(contours[i],8,True)\n",
    "    cv2.polylines(img, [approx], True, (255, 0, 0), 3)\n",
    "    if hierarchy[0][i][2] != -1 and approx.size == 8:\n",
    "        sub = hierarchy[0][i][2]\n",
    "        approx2 = cv2.approxPolyDP(contours[sub],8,True)\n",
    "        #cv2.polylines(img, [approx2], True, (0, 255, 0), 3)\n",
    "        if hierarchy[0][sub][2] != -1 and approx2.size == 8:\n",
    "            sub2 = hierarchy[0][sub][2]\n",
    "            approx3 = cv2.approxPolyDP(contours[sub2],8,True)\n",
    "            if approx3.size == 6:\n",
    "                cv2.polylines(img, [approx], True, (255, 0, 0), 3)\n",
    "                cv2.polylines(img, [approx2], True, (0, 255, 0), 3)\n",
    "                cv2.polylines(img, [approx3], True, (0, 0, 255), 3)\n",
    "        i += 1\n",
    "    i += 1\n",
    "\n",
    "#cv2.imwrite(outPath, img)"
   ]
  },
  {
   "cell_type": "code",
   "execution_count": null,
   "metadata": {},
   "outputs": [],
   "source": []
  },
  {
   "cell_type": "code",
   "execution_count": 22,
   "metadata": {},
   "outputs": [
    {
     "data": {
      "image/png": "[encoded data removed]",
      "text/plain": [
       "<matplotlib.figure.Figure at 0x7f158c581850>"
      ]
     },
     "metadata": {},
     "output_type": "display_data"
    }
   ],
   "source": [
    "plt.imshow(img)\n",
    "plt.show()"
   ]
  },
  {
   "cell_type": "code",
   "execution_count": null,
   "metadata": {
    "collapsed": true
   },
   "outputs": [],
   "source": []
  }
 ],
 "metadata": {
  "kernelspec": {
   "display_name": "Python 2",
   "language": "python",
   "name": "python2"
  },
  "language_info": {
   "codemirror_mode": {
    "name": "ipython",
    "version": 2
   },
   "file_extension": ".py",
   "mimetype": "text/x-python",
   "name": "python",
   "nbconvert_exporter": "python",
   "pygments_lexer": "ipython2",
   "version": "2.7.13"
  }
 },
 "nbformat": 4,
 "nbformat_minor": 2
}
